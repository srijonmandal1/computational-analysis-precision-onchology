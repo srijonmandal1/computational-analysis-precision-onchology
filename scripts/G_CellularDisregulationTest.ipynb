{
 "cells": [
  {
   "cell_type": "code",
   "execution_count": 1,
   "id": "eb0d4618-8754-448c-86a6-9467e833dd09",
   "metadata": {
    "tags": []
   },
   "outputs": [
    {
     "name": "stdout",
     "output_type": "stream",
     "text": [
      "The number of nonpolar amino acids is 83\n",
      "The number of polar charged amino acids is 54\n",
      "The number of polar uncharged amino acids is 67\n",
      "\n",
      "The percentage of nonpolar amino acids in the sequence is 40.68627450980392%\n",
      "The percentage of polar charged amino acids in the sequence is 26.47058823529412%\n",
      "The percentage of polar uncharged amino acids in the sequence is 32.84313725490196%\n"
     ]
    }
   ],
   "source": [
    "# The protein sequence obtained from the 2FEJ entry is defined as a variable \"sequence\" below\n",
    "sequence = (\"SSSVPSQKTYQGSYGFRLGFLHSGTAKSVTCTYSPALNKMFCQLAKTCPVQLWVDSTPPPGTRVRAMAIYKQSQHMTEVVRRCPHHERCSDSDGLAPPQHLIRVEGNLRVEYLDDRNTFRHSVVVPYEPPEVGSDCTTIHYNYMCNSSCMGGMNRRPILTIITLEDSSGNLLGRNSFEVRVCACPGRDRRTEEENLRKKGEPHH\")\n",
    "\n",
    "# The count of each amino acid category is intialized below starting at values of 0\n",
    "# The cateogires of amino acids for this analysis are nonpolar, polar charged, and polar uncharged (Osuri, 2003)\n",
    "nonpolar_aa_count = 0\n",
    "polar_charged_aa_count = 0\n",
    "polar_uncharged_aa_count = 0\n",
    "\n",
    "nonpolar_aa = [\"G\", \"A\", \"V\", \"L\", \"I\", \"M\", \"P\", \"F\", \"W\"]\n",
    "polar_charged_aa = [\"K\", \"R\", \"H\", \"D\", \"E\"]\n",
    "polar_uncharged_aa = [\"S\", \"T\", \"N\", \"Q\", \"Y\", \"C\"]\n",
    "\n",
    "# A for loop will check each character/letter in the sequence to see if it belongs to one of the three categories\n",
    "# If it belongs in a specific category, the count of that type of amino acid will increase by one\n",
    "for char in sequence:\n",
    "    if char in nonpolar_aa:\n",
    "        nonpolar_aa_count +=1\n",
    "    elif char in polar_charged_aa:\n",
    "        polar_charged_aa_count += 1\n",
    "    elif char in polar_uncharged_aa:\n",
    "        polar_uncharged_aa_count += 1\n",
    "        \n",
    "# The count of each category will be displayed using the lines of code below\n",
    "print(\"The number of nonpolar amino acids is {0}\".format(nonpolar_aa_count))\n",
    "print(\"The number of polar charged amino acids is {0}\".format(polar_charged_aa_count))\n",
    "print(\"The number of polar uncharged amino acids is {0}\\n\".format(polar_uncharged_aa_count))\n",
    "\n",
    "# The percentage of each category of amino acid is calculated below by dividing counts by the length of the sequence\n",
    "percent_nonpolar_aa_count = ((nonpolar_aa_count / 204) * 100)\n",
    "percent_polar_charged_aa_count = ((polar_charged_aa_count / 204) * 100)\n",
    "percent_polar_uncharged_aa_count = ((polar_uncharged_aa_count / 204) * 100)\n",
    "\n",
    "# Similar to above, the percentage of each category will be displayed using the lines of code below\n",
    "print(\"The percentage of nonpolar amino acids in the sequence is {0}%\".format(percent_nonpolar_aa_count))\n",
    "print(\"The percentage of polar charged amino acids in the sequence is {0}%\".format(percent_polar_charged_aa_count))\n",
    "print(\"The percentage of polar uncharged amino acids in the sequence is {0}%\".format(percent_polar_uncharged_aa_count))\n"
   ]
  },
  {
   "cell_type": "code",
   "execution_count": null,
   "id": "416e2e84-25cb-4dec-a788-25b58a492ef5",
   "metadata": {},
   "outputs": [],
   "source": []
  }
 ],
 "metadata": {
  "kernelspec": {
   "display_name": "Python (Local)",
   "language": "python",
   "name": "base"
  },
  "language_info": {
   "codemirror_mode": {
    "name": "ipython",
    "version": 3
   },
   "file_extension": ".py",
   "mimetype": "text/x-python",
   "name": "python",
   "nbconvert_exporter": "python",
   "pygments_lexer": "ipython3",
   "version": "3.10.13"
  }
 },
 "nbformat": 4,
 "nbformat_minor": 5
}
